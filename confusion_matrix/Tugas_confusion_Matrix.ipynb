{
  "cells": [
    {
      "cell_type": "code",
      "execution_count": 1,
      "metadata": {
        "id": "VWVS506QJ6rE"
      },
      "outputs": [],
      "source": [
        "import numpy as np\n",
        "import matplotlib.pyplot as plt\n",
        "\n",
        "from sklearn.metrics import confusion_matrix, classification_report"
      ]
    },
    {
      "cell_type": "code",
      "execution_count": 2,
      "metadata": {
        "id": "jzUTcFX7P2rP"
      },
      "outputs": [],
      "source": [
        "data_asli = np.array([1, 5, 8, 2, 4, 6, 9, 3, 0, 7, 4, 2, 8, 6, 1, 3, 5, 9, 7])\n",
        "data_prediksi = np.array([3, 7, 0, 9, 6, 2, 5, 4, 8, 1, 2, 3, 7, 5, 1, 4, 6, 8, 0])\n"
      ]
    },
    {
      "cell_type": "code",
      "execution_count": 3,
      "metadata": {
        "id": "S4xoj2upR1AN"
      },
      "outputs": [],
      "source": [
        "confusion_mtrx = confusion_matrix(data_asli, data_prediksi)"
      ]
    },
    {
      "cell_type": "code",
      "execution_count": 4,
      "metadata": {
        "colab": {
          "base_uri": "https://localhost:8080/",
          "height": 472
        },
        "id": "DyvIj3qxS7jr",
        "outputId": "c7b435d3-caf5-44c2-834b-5611d31a4aae"
      },
      "outputs": [
        {
          "data": {
            "image/png": "[encoded data removed]",
            "text/plain": [
              "<Figure size 640x480 with 2 Axes>"
            ]
          },
          "metadata": {},
          "output_type": "display_data"
        }
      ],
      "source": [
        "plt.imshow(confusion_mtrx, cmap=plt.cm.gray)\n",
        "plt.title(\"confusion matrix\")\n",
        "plt.colorbar()\n",
        "plt.xlabel('data prediksi')\n",
        "plt.ylabel('data asli')\n",
        "plt.show()"
      ]
    },
    {
      "cell_type": "code",
      "execution_count": 5,
      "metadata": {
        "colab": {
          "base_uri": "https://localhost:8080/"
        },
        "id": "zogGQq1XTZjg",
        "outputId": "fe6242ae-5b8b-48a3-ea6a-93db2660e51f"
      },
      "outputs": [
        {
          "name": "stdout",
          "output_type": "stream",
          "text": [
            "\n",
            "               precision    recall  f1-score   support\n",
            "\n",
            "           0       0.00      0.00      0.00         1\n",
            "           1       0.50      0.50      0.50         2\n",
            "           2       0.00      0.00      0.00         2\n",
            "           3       0.00      0.00      0.00         2\n",
            "           4       0.00      0.00      0.00         2\n",
            "           5       0.00      0.00      0.00         2\n",
            "           6       0.00      0.00      0.00         2\n",
            "           7       0.00      0.00      0.00         2\n",
            "           8       0.00      0.00      0.00         2\n",
            "           9       0.00      0.00      0.00         2\n",
            "\n",
            "    accuracy                           0.05        19\n",
            "   macro avg       0.05      0.05      0.05        19\n",
            "weighted avg       0.05      0.05      0.05        19\n",
            "\n"
          ]
        }
      ],
      "source": [
        "target = ['0','1','2','3','4','5','6','7','8','9']\n",
        "print('\\n', classification_report(data_asli, data_prediksi, target_names=target))"
      ]
    }
  ],
  "metadata": {
    "colab": {
      "provenance": []
    },
    "kernelspec": {
      "display_name": "Python 3",
      "name": "python3"
    },
    "language_info": {
      "codemirror_mode": {
        "name": "ipython",
        "version": 3
      },
      "file_extension": ".py",
      "mimetype": "text/x-python",
      "name": "python",
      "nbconvert_exporter": "python",
      "pygments_lexer": "ipython3",
      "version": "3.11.7"
    }
  },
  "nbformat": 4,
  "nbformat_minor": 0
}
